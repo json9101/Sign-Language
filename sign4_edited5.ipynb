{
 "cells": [
  {
   "cell_type": "code",
   "execution_count": 1,
   "metadata": {},
   "outputs": [
    {
     "name": "stderr",
     "output_type": "stream",
     "text": [
      "c:\\Users\\eagls\\AppData\\Local\\Programs\\Python\\Python38\\lib\\site-packages\\tqdm\\auto.py:21: TqdmWarning: IProgress not found. Please update jupyter and ipywidgets. See https://ipywidgets.readthedocs.io/en/stable/user_install.html\n",
      "  from .autonotebook import tqdm as notebook_tqdm\n"
     ]
    }
   ],
   "source": [
    "import cv2\n",
    "import numpy as np\n",
    "import json\n",
    "import os\n",
    "from glob import glob\n",
    "import torch\n",
    "from PIL import Image\n",
    "from torch import nn\n",
    "from torchvision import transforms\n",
    "import torchvision.datasets as dsets\n",
    "import torchvision.transforms as transforms\n",
    "from torch.utils.data import DataLoader\n",
    "from torch import optim\n",
    "from tqdm.auto import tqdm\n",
    "from IPython.display import clear_output\n",
    "from sklearn.model_selection import train_test_split\n",
    "import matplotlib.pyplot as plt\n",
    "from sys import getsizeof\n",
    "from pympler import asizeof\n",
    "device = 'cuda' if torch.cuda.is_available() else 'cpu'\n"
   ]
  },
  {
   "cell_type": "code",
   "execution_count": 2,
   "metadata": {},
   "outputs": [],
   "source": [
    "PATH = 'C:/Users/eagls/bootcamp/deeplearning_project/train'\n",
    "folder_list = os.listdir(PATH)"
   ]
  },
  {
   "cell_type": "code",
   "execution_count": 3,
   "metadata": {},
   "outputs": [
    {
     "data": {
      "text/plain": [
       "['d', 'e', 'h', 'l', 'o', 'r', 'w']"
      ]
     },
     "execution_count": 3,
     "metadata": {},
     "output_type": "execute_result"
    }
   ],
   "source": [
    "folder_list"
   ]
  },
  {
   "cell_type": "code",
   "execution_count": 4,
   "metadata": {},
   "outputs": [
    {
     "name": "stderr",
     "output_type": "stream",
     "text": [
      "100%|██████████| 7/7 [00:13<00:00,  1.90s/it]\n"
     ]
    }
   ],
   "source": [
    "img_list = []\n",
    "img_tuple_list = []\n",
    "folder_name = [0,1,2,3,4,5,6,7]\n",
    "count=0\n",
    "transform = transforms.Compose([\n",
    "    transforms.Resize((128,128))\n",
    "])\n",
    "for folder in tqdm(folder_list):\n",
    "    folder_path = glob(f'C:/Users/eagls/bootcamp/deeplearning_project/train/{folder}/*.jpg')\n",
    "    \n",
    "    for i in range(len(folder_path)):\n",
    "        folder_path[i] = folder_path[i].replace('\\\\', '/')\n",
    "        image = Image.open(folder_path[i])\n",
    "        image = transform(image)\n",
    "        # 이미지를 흑백으로 변환\n",
    "        image = image.convert('L')\n",
    "        # 이미지 데이터 디코딩\n",
    "        image_data = np.array(image)   \n",
    "        # 이미지 데이터 정규화\n",
    "        image_data = image_data.astype(\"float32\") / 255.0 \n",
    "        # NumPy 배열을 PyTorch 텐서로 변환\n",
    "        image_tensor = transforms.ToTensor()(image_data)\n",
    "        img_tuple_list.append((image_tensor,count))\n",
    "    count +=1\n",
    "\n"
   ]
  },
  {
   "cell_type": "code",
   "execution_count": 5,
   "metadata": {},
   "outputs": [
    {
     "name": "stdout",
     "output_type": "stream",
     "text": [
      "torch.Size([1, 128, 128])\n"
     ]
    },
    {
     "data": {
      "text/plain": [
       "<matplotlib.image.AxesImage at 0x17bb14b3460>"
      ]
     },
     "execution_count": 5,
     "metadata": {},
     "output_type": "execute_result"
    },
    {
     "data": {
      "image/png": "[encoded data removed]",
      "text/plain": [
       "<Figure size 640x480 with 1 Axes>"
      ]
     },
     "metadata": {},
     "output_type": "display_data"
    }
   ],
   "source": [
    "a = img_tuple_list[-1][0]\n",
    "print(a.shape)\n",
    "import numpy as np\n",
    "a = np.squeeze(a)  # remove the first dimension with length 1\n",
    "plt.imshow(a)\n"
   ]
  },
  {
   "cell_type": "code",
   "execution_count": 6,
   "metadata": {},
   "outputs": [],
   "source": [
    "X, y = zip(*img_tuple_list)\n",
    "X_train, X_test, y_train, y_test = train_test_split(X, y, test_size=0.30, stratify=y, random_state=42)\n",
    "train_data = [(x, y) for x, y in zip(X_train, y_train)]\n",
    "test_data = [(x, y) for x, y in zip(X_test, y_test)]"
   ]
  },
  {
   "cell_type": "code",
   "execution_count": 7,
   "metadata": {},
   "outputs": [],
   "source": [
    "# hyper parameter\n",
    "BATCH_SIZE = 10\n",
    "EPOCHS = 15\n",
    "LEARNING_RATE = 1e-3\n"
   ]
  },
  {
   "cell_type": "code",
   "execution_count": 8,
   "metadata": {},
   "outputs": [],
   "source": [
    "train_loader = DataLoader(train_data,batch_size=BATCH_SIZE)\n",
    "test_loader = DataLoader(test_data,batch_size=BATCH_SIZE)"
   ]
  },
  {
   "cell_type": "code",
   "execution_count": 47,
   "metadata": {},
   "outputs": [],
   "source": [
    "# model 생성\n",
    "# Convolution, Maxpooling, flatten\n",
    "class CNN(nn.Module):\n",
    "  def __init__(self):\n",
    "    super().__init__()\n",
    "    \n",
    "    self.layer1 = nn.Sequential(\n",
    "        nn.Conv2d(1, 16, kernel_size=3, padding=1),\n",
    "        nn.ReLU(),\n",
    "        nn.MaxPool2d(2),\n",
    "        nn.Dropout(0.2)\n",
    "    )    \n",
    "    self.layer2 = nn.Sequential(\n",
    "        nn.Conv2d(16, 32, kernel_size=3, padding=1),\n",
    "        nn.ReLU(),\n",
    "        nn.MaxPool2d(2),\n",
    "        nn.Dropout(0.2)\n",
    "\n",
    "    )\n",
    "    self.layer3 = nn.Sequential(\n",
    "        nn.Conv2d(32, 28, kernel_size=3, padding=1),\n",
    "        nn.ReLU(),\n",
    "        nn.MaxPool2d(2),\n",
    "        nn.Dropout(0.2)\n",
    "\n",
    "    )\n",
    "\n",
    "  \n",
    "    self.softmax = nn.Softmax()\n",
    "    self.drop_out = nn.Dropout(0.2)\n",
    "    self.fc = nn.Linear(8*8*8,8)\n",
    "  def forward(self, x):\n",
    "    x = self.layer1(x)\n",
    "    x = self.layer2(x)\n",
    "    x = self.layer3(x)\n",
    "    x = x.view(x.size(0),-1)\n",
    "    x = self.fc(x)\n",
    "    x = self.softmax(x)\n",
    "    return x\n",
    "\n"
   ]
  },
  {
   "cell_type": "code",
   "execution_count": 48,
   "metadata": {},
   "outputs": [
    {
     "data": {
      "text/plain": [
       "CNN(\n",
       "  (layer1): Sequential(\n",
       "    (0): Conv2d(1, 16, kernel_size=(3, 3), stride=(1, 1), padding=(1, 1))\n",
       "    (1): ReLU()\n",
       "    (2): MaxPool2d(kernel_size=2, stride=2, padding=0, dilation=1, ceil_mode=False)\n",
       "    (3): Dropout(p=0.2, inplace=False)\n",
       "  )\n",
       "  (layer2): Sequential(\n",
       "    (0): Conv2d(16, 32, kernel_size=(3, 3), stride=(1, 1), padding=(1, 1))\n",
       "    (1): ReLU()\n",
       "    (2): MaxPool2d(kernel_size=2, stride=2, padding=0, dilation=1, ceil_mode=False)\n",
       "    (3): Dropout(p=0.2, inplace=False)\n",
       "  )\n",
       "  (layer3): Sequential(\n",
       "    (0): Conv2d(32, 28, kernel_size=(3, 3), stride=(1, 1), padding=(1, 1))\n",
       "    (1): ReLU()\n",
       "    (2): MaxPool2d(kernel_size=2, stride=2, padding=0, dilation=1, ceil_mode=False)\n",
       "    (3): Dropout(p=0.2, inplace=False)\n",
       "  )\n",
       "  (layer4): Sequential(\n",
       "    (0): Conv2d(28, 8, kernel_size=(3, 3), stride=(1, 1), padding=(1, 1))\n",
       "    (1): ReLU()\n",
       "    (2): MaxPool2d(kernel_size=2, stride=2, padding=0, dilation=1, ceil_mode=False)\n",
       "    (3): Dropout(p=0.2, inplace=False)\n",
       "  )\n",
       "  (softmax): Softmax(dim=None)\n",
       "  (drop_out): Dropout(p=0.2, inplace=False)\n",
       "  (fc): Linear(in_features=512, out_features=8, bias=True)\n",
       ")"
      ]
     },
     "execution_count": 48,
     "metadata": {},
     "output_type": "execute_result"
    }
   ],
   "source": [
    "model = CNN()\n",
    "model.to(device)"
   ]
  },
  {
   "cell_type": "code",
   "execution_count": 49,
   "metadata": {},
   "outputs": [
    {
     "data": {
      "text/plain": [
       "30112"
      ]
     },
     "execution_count": 49,
     "metadata": {},
     "output_type": "execute_result"
    }
   ],
   "source": [
    "getsizeof(train_data)"
   ]
  },
  {
   "cell_type": "code",
   "execution_count": 50,
   "metadata": {},
   "outputs": [],
   "source": [
    "criterion = nn.CrossEntropyLoss()\n",
    "optimizer = optim.Adam(model.parameters(), lr=LEARNING_RATE)"
   ]
  },
  {
   "cell_type": "code",
   "execution_count": 51,
   "metadata": {},
   "outputs": [
    {
     "name": "stdout",
     "output_type": "stream",
     "text": [
      "14번째 train_loss : 1.6 test_loss : 1.61 Accuracy : 95.18%\n"
     ]
    },
    {
     "data": {
      "image/png": "[encoded data removed]",
      "text/plain": [
       "<Figure size 640x480 with 1 Axes>"
      ]
     },
     "metadata": {},
     "output_type": "display_data"
    },
    {
     "data": {
      "image/png": "[encoded data removed]",
      "text/plain": [
       "<Figure size 640x480 with 4 Axes>"
      ]
     },
     "metadata": {},
     "output_type": "display_data"
    }
   ],
   "source": [
    "total_acc = []\n",
    "for epoch in range(EPOCHS):\n",
    "  # 학습\n",
    "  train_loss=[]\n",
    "  for img, label in tqdm(train_loader):\n",
    "    img = img.to(device)\n",
    "    label = label.to(device)\n",
    "    \n",
    "    optimizer.zero_grad()\n",
    "    pred = model(img)\n",
    "    loss = criterion(pred, label)\n",
    "    loss.backward()\n",
    "    optimizer.step()\n",
    "    train_loss.append(loss.item())\n",
    "  # 평가\n",
    "  test_loss=[]\n",
    "  test_sources = []\n",
    "  with torch.no_grad():\n",
    "    for img, label in test_loader:\n",
    "      pred = model(img)\n",
    "      loss = criterion(pred, label)\n",
    "      # pred = model(img)\n",
    "      # loss = criterion(pred, label)\n",
    "      test_loss.append(loss.item())\n",
    "      test_sources.append((img[pred.cpu().argmax(axis=1)!=label.cpu()],\n",
    "                           label[pred.cpu().argmax(axis=1)!=label.cpu()],pred.cpu().argmax(axis=1)[pred.cpu().argmax(axis=1)!=label.cpu()])) # label과 pred 값이 다른 부분만 test_sources에 담기\n",
    "  # 노트북 파일 기존 프린트 되었던 화면을 지우는 코드\n",
    "  clear_output()\n",
    "\n",
    "  # 인식 잘 안된 부분의 시각화를 위해서 img, label, pred를 모아서 정리\n",
    "  imgs = [x[0] for x in test_sources]\n",
    "  imgs = torch.cat(imgs, axis=0)\n",
    "  labels = [x[1] for x in test_sources]\n",
    "  labels = torch.cat(labels, axis=0)\n",
    "  preds = [x[2] for x in test_sources]\n",
    "  preds = torch.cat(preds, axis=0)\n",
    "\n",
    "  # 정확도 계산을 위한 코드. 다양하게 다른 방법도 가능함\n",
    "  # sklearn의 metric 이용하는 방법 추천\n",
    "  wrongs = [len(x[0]) for x in test_sources]\n",
    "  acc = round(100-(sum(wrongs)/100),2)\n",
    "\n",
    "  # 정확도 추이를 보기 위하여 각 에폭에서의 정확도 정보 수집\n",
    "  total_acc.append(acc)\n",
    "\n",
    "  # 학습 진행 상황 출력\n",
    "  print(\"{}번째 train_loss : {} test_loss : {} Accuracy : {}%\".format(epoch, round(np.array(train_loss).mean(),2),round(np.array(test_loss).mean(),2),\n",
    "                                                                   acc))\n",
    "  if img.shape[0]<1:continue # 혹시 더이상 오분류 내용이 없으면 지나가도록 세팅\n",
    "\n",
    "  # 정확도 그래프 그리기\n",
    "  plt.plot(total_acc)\n",
    "  plt.show()\n",
    "\n",
    "  # 오분류 내용이 어떤건지 알기 위해 오분류 내용 4개 뽑아서 label과 pred 글자 넣어서 표시\n",
    "  for i in range(4):\n",
    "    plt.subplot(1,4,i+1)    \n",
    "    plt.imshow(np.squeeze(imgs[i][0]), cmap='gray')    \n",
    "    plt.title(\"{} vs {}\".format(labels[i].item(),preds[i].item()))\n",
    "    plt.axis('off')\n",
    "  plt.show()"
   ]
  },
  {
   "cell_type": "code",
   "execution_count": 45,
   "metadata": {},
   "outputs": [
    {
     "data": {
      "text/plain": [
       "tensor([1.0000, 1.0000, 1.0000, 1.0000, 1.0000, 1.0000, 1.0000, 1.0000, 1.0000,\n",
       "        1.0000])"
      ]
     },
     "execution_count": 45,
     "metadata": {},
     "output_type": "execute_result"
    }
   ],
   "source": [
    "pred.sum(-1)"
   ]
  },
  {
   "cell_type": "code",
   "execution_count": 39,
   "metadata": {},
   "outputs": [],
   "source": [
    "torch.save(model.state_dict(), 'alphabet_model11.pt')"
   ]
  },
  {
   "cell_type": "code",
   "execution_count": 52,
   "metadata": {},
   "outputs": [
    {
     "name": "stdout",
     "output_type": "stream",
     "text": [
      "[]\n",
      "[]\n",
      "[]\n",
      "[]\n"
     ]
    },
    {
     "name": "stderr",
     "output_type": "stream",
     "text": [
      "C:\\Users\\eagls\\AppData\\Local\\Temp\\ipykernel_17356\\3688411942.py:45: UserWarning: Implicit dimension choice for softmax has been deprecated. Change the call to include dim=X as an argument.\n",
      "  x = self.softmax(x)\n"
     ]
    },
    {
     "name": "stdout",
     "output_type": "stream",
     "text": [
      "[]\n",
      "[]\n",
      "[]\n",
      "[]\n",
      "[]\n",
      "[]\n",
      "[]\n",
      "[]\n",
      "[]\n",
      "[]\n",
      "[]\n",
      "[]\n",
      "[]\n",
      "[]\n",
      "[]\n",
      "[]\n",
      "[]\n",
      "[]\n",
      "[]\n",
      "[]\n",
      "[]\n",
      "[]\n",
      "[]\n",
      "['h']\n",
      "['h']\n",
      "['h']\n",
      "['h']\n",
      "['h']\n",
      "['h']\n",
      "['h']\n",
      "['h']\n",
      "['h']\n",
      "['h']\n",
      "['h']\n",
      "['h']\n",
      "['h']\n",
      "['h']\n",
      "['h']\n",
      "['h']\n",
      "['h']\n",
      "['h']\n",
      "['h']\n",
      "['h']\n",
      "['h']\n",
      "['h']\n",
      "['h']\n",
      "['h']\n",
      "['h']\n",
      "['h']\n",
      "['h']\n",
      "['h']\n",
      "['h']\n",
      "['h']\n",
      "['h']\n",
      "['h']\n",
      "['h']\n",
      "['h']\n",
      "['h']\n",
      "['h']\n",
      "['h']\n",
      "['h']\n",
      "['h']\n",
      "['h']\n",
      "['h']\n",
      "['h']\n",
      "['h']\n",
      "['h']\n",
      "['h']\n",
      "['h']\n",
      "['h']\n",
      "['h']\n",
      "['h']\n",
      "['h']\n",
      "['h']\n",
      "['h']\n",
      "['h']\n",
      "['h']\n",
      "['h']\n",
      "['h']\n",
      "['h']\n",
      "['h']\n",
      "['h']\n",
      "['h']\n",
      "['h']\n",
      "['h']\n",
      "['h']\n",
      "['h']\n",
      "['h']\n",
      "['h']\n",
      "['h']\n",
      "['h']\n",
      "['h']\n",
      "['h']\n",
      "['h']\n",
      "['h']\n",
      "['h']\n",
      "['h']\n",
      "['h']\n",
      "['h']\n",
      "['h']\n",
      "['h']\n",
      "['h']\n",
      "['h']\n",
      "['h']\n",
      "['h']\n",
      "['h']\n",
      "['h']\n",
      "['h']\n",
      "['h']\n",
      "['h']\n",
      "['h']\n",
      "['h']\n",
      "['h']\n",
      "['h']\n"
     ]
    }
   ],
   "source": [
    "# 손 랜드마크 저장하는 코드\n",
    "import cv2\n",
    "import mediapipe as mp\n",
    "import numpy as np\n",
    "import time\n",
    "import pandas as pd\n",
    "#model=CNN()\n",
    "#model.load_state_dict(torch.load('alphabet_model11.pt'))\n",
    "#model= torch.load()q\n",
    "num = 0 # 시작하기전에 사진 번호 맞춰주기\n",
    "text_list=['d','e','h','l','o','r','w']\n",
    "cap = cv2.VideoCapture(0)\n",
    "mp_drawing = mp.solutions.drawing_utils\n",
    "mp_hands = mp.solutions.hands\n",
    "landmark_list = []\n",
    "text_list_1 = []\n",
    "text_list_2='A'\n",
    "\n",
    "font = cv2.FONT_HERSHEY_SIMPLEX\n",
    "\n",
    "org = (100, 100)  # 문자열을 쓰고자 하는 위치\n",
    "fontScale = 2\n",
    "text_color = (0, 0, 255) \n",
    "thickness = 3\n",
    "text = \"show your hand\"\n",
    "space_box_color = (0,255,0)\n",
    "backspace_box_color = (0,255,0)\n",
    "with mp_hands.Hands(\n",
    "    min_detection_confidence=0.5,\n",
    "    min_tracking_confidence=0.5) as hands:\n",
    "    while cap.isOpened():\n",
    "        ret, frame = cap.read()\n",
    "        success, image = cap.read()\n",
    "        frame = cv2.flip(frame, 1)\n",
    "        \n",
    "        if not success:\n",
    "            print(\"Ignoring empty camera frame.\")\n",
    "            continue\n",
    "\n",
    "        image = cv2.cvtColor(cv2.flip(image, 1), cv2.COLOR_BGR2RGB)\n",
    "        image.flags.writeable = True\n",
    "        results = hands.process(image)\n",
    "        image = cv2.cvtColor(image, cv2.COLOR_RGB2BGR)\n",
    "        # 띄어쓰기 박스 그리기\n",
    "        space_box_top_left = (400, 100)\n",
    "        space_box_bottom_right = (650, 200)\n",
    "        cv2.rectangle(image, space_box_top_left, space_box_bottom_right, space_box_color, 2)\n",
    "        # 지우기 박스 그리기\n",
    "        backspace_box_top_left = (400, 300)\n",
    "        backspace_box_bottom_right = (650, 400)\n",
    "        cv2.rectangle(image, backspace_box_top_left, backspace_box_bottom_right, backspace_box_color, 2)\n",
    "        \n",
    "        if results.multi_hand_landmarks:\n",
    "            for hand_landmarks in results.multi_hand_landmarks:\n",
    "                 # 손의 중심점 계산\n",
    "                x_center = int(hand_landmarks.landmark[0].x * image.shape[1])\n",
    "                y_center = int(hand_landmarks.landmark[0].y * image.shape[0])\n",
    "                            \n",
    "                mp_drawing.draw_landmarks(\n",
    "                    image, hand_landmarks, mp_hands.HAND_CONNECTIONS)\n",
    "\n",
    "                # 손의 랜드마크만 추출\n",
    "                global landmark_list\n",
    "                landmark_list = []\n",
    "                for landmark in hand_landmarks.landmark:\n",
    "                    landmark_x = min(int(landmark.x * image.shape[1]), image.shape[1]-1)\n",
    "                    landmark_y = min(int(landmark.y * image.shape[0]), image.shape[0]-1)\n",
    "                    landmark_list.append([landmark_x, landmark_y])\n",
    "                landmark_array = np.array(landmark_list)\n",
    "                \n",
    "                # 손의 랜드마크만 저장\n",
    "                hand_image = np.zeros_like(image)\n",
    "                mp_drawing.draw_landmarks(\n",
    "                    hand_image, hand_landmarks, mp_hands.HAND_CONNECTIONS)\n",
    "                hand_landmarks_image = cv2.cvtColor(hand_image, cv2.COLOR_RGB2GRAY)  # 컬러 이미지 대신 그레이스케일 이미지로 변경\n",
    "                hand_landmarks_image = cv2.threshold(hand_landmarks_image, 1, 255, cv2.THRESH_BINARY)[1]\n",
    "                hand_landmarks_image = cv2.merge([hand_landmarks_image, hand_landmarks_image, hand_landmarks_image])\n",
    "                hand_landmarks_image = cv2.bitwise_and(image, hand_landmarks_image)\n",
    "\n",
    "                hand_landmarks_image = cv2.cvtColor(hand_landmarks_image, cv2.COLOR_BGR2GRAY)\n",
    "                hand_landmarks_image = cv2.resize(hand_landmarks_image, (128, 128))\n",
    "                hand_landmarks_image = np.expand_dims(hand_landmarks_image, axis=0) # 1x128x128로 만들어주기\n",
    "                hand_landmarks_image = torch.Tensor(hand_landmarks_image)\n",
    "                \n",
    "                # 손이 박스 안에 있는지 확인\n",
    "                if space_box_top_left[0] < x_center < space_box_bottom_right[0] and space_box_top_left[1] < y_center < space_box_bottom_right[1]:\n",
    "                    space_box_color = (255,0,0)\n",
    "                    backspace_box_color = (0,255,0)\n",
    "                    text_list.append(\"_\")\n",
    "                elif backspace_box_top_left[0] < x_center < backspace_box_bottom_right[0] and backspace_box_top_left[1] < y_center < backspace_box_bottom_right[1]:\n",
    "                    space_box_color = (0,255,0)\n",
    "                    backspace_box_color = (255,0,0)\n",
    "                    text_list.append(\"-\")\n",
    "                else:\n",
    "                    space_box_color = (0,255,0)\n",
    "                    backspace_box_color = (0,255,0)\n",
    "                    pred = model(hand_landmarks_image.unsqueeze(0))\n",
    "\n",
    "                    \n",
    "                    # text = str(pred.argmax().item())  # 예측 결과를 문자열로 변환\n",
    "                    img_pil = Image.fromarray(image)\n",
    "                    image = np.array(img_pil)\n",
    "                    a=str(folder_list[pred.argmax().item()])\n",
    "                    if pred.argmax().item() is not None:\n",
    "                        text = a      \n",
    "                        text_list.append(text)\n",
    "                    else:\n",
    "                        text = \"No prediction\"\n",
    "                        print(\"Err\")\n",
    "                    \n",
    "                if all(x == text_list[0] for x in text_list): # text_list의 값이 모두 같으면\n",
    "                    if len(text_list) >15: # 10프레임이상 찍히면\n",
    "                        text_list_1.extend(text_list[0])\n",
    "                        text_list=[]\n",
    "                elif len(text_list) >15:\n",
    "                    text_list=[]\n",
    "                \n",
    "        # 이미지에 문자열 표시\n",
    "        print(text_list_1)\n",
    "        text_list_2 = ''.join(text_list_1)\n",
    "        if text_list_2.endswith('-'):\n",
    "            text_list_2 = text_list_2[:-2]\n",
    "            text_list_1 = text_list_1[:-2]\n",
    "        cv2.putText(image, text, org, font, fontScale, text_color, thickness)\n",
    "        cv2.putText(image, \"SPACE\", (1200,100), font, fontScale, (255,255,255), thickness)\n",
    "        cv2.putText(image, \"BACKSPACE\", (1110,500), font, fontScale, (255,255,255), thickness)\n",
    "        cv2.putText(image, text_list_2, (100,200), font, fontScale, text_color, thickness)\n",
    "        cv2.imshow('MediaPipe Hands', image)\n",
    "        \n",
    "        \n",
    "        \n",
    "        key = cv2.waitKey(1)\n",
    "        if key == ord('s'):\n",
    "            num += 1\n",
    "            landmark_lists.append(landmark_list)\n",
    "            if len(landmark_lists) == 300:\n",
    "                a= pd.DataFrame(landmark_lists)\n",
    "                a.to_csv('landmarks_b',index=False)\n",
    "                cv2.destroyAllWindows()\n",
    "        if key == ord('q'):\n",
    "            cv2.destroyAllWindows()\n",
    "            break\n",
    "            \n",
    "\n",
    "cap.release()"
   ]
  },
  {
   "cell_type": "code",
   "execution_count": 25,
   "metadata": {},
   "outputs": [
    {
     "data": {
      "text/plain": [
       "tensor([[0., 1., 0., 0., 0., 0., 0., 0.]], grad_fn=<SoftmaxBackward0>)"
      ]
     },
     "execution_count": 25,
     "metadata": {},
     "output_type": "execute_result"
    }
   ],
   "source": [
    "pred"
   ]
  },
  {
   "cell_type": "code",
   "execution_count": 23,
   "metadata": {},
   "outputs": [
    {
     "data": {
      "text/plain": [
       "tensor(1., grad_fn=<SelectBackward0>)"
      ]
     },
     "execution_count": 23,
     "metadata": {},
     "output_type": "execute_result"
    }
   ],
   "source": [
    "pred[0][pred.argmax()]"
   ]
  },
  {
   "cell_type": "code",
   "execution_count": 27,
   "metadata": {},
   "outputs": [],
   "source": [
    "cv2.destroyAllWindows()"
   ]
  },
  {
   "cell_type": "code",
   "execution_count": 158,
   "metadata": {},
   "outputs": [
    {
     "name": "stdout",
     "output_type": "stream",
     "text": [
      "['h1.0', 'e1.0', 'l1.0', 'l1.0', 'o1.0']\n"
     ]
    }
   ],
   "source": [
    "print(alphabet)"
   ]
  },
  {
   "cell_type": "code",
   "execution_count": 165,
   "metadata": {},
   "outputs": [
    {
     "name": "stdout",
     "output_type": "stream",
     "text": [
      "C:\\Windows\\Fonts\\malgun.ttf\n",
      "C:\\Windows\\Fonts\\malgunbd.ttf\n",
      "C:\\Windows\\Fonts\\malgunsl.ttf\n"
     ]
    }
   ],
   "source": [
    "import os\n",
    "for root, dirs, files in os.walk(\"C:\\\\Windows\\\\Fonts\"):\n",
    "    for file in files:\n",
    "        if file.endswith(\".ttf\") and \"malgun\" in file.lower():\n",
    "            print(os.path.join(root, file))\n"
   ]
  },
  {
   "cell_type": "code",
   "execution_count": null,
   "metadata": {},
   "outputs": [],
   "source": []
  }
 ],
 "metadata": {
  "kernelspec": {
   "display_name": "Python 3",
   "language": "python",
   "name": "python3"
  },
  "language_info": {
   "codemirror_mode": {
    "name": "ipython",
    "version": 3
   },
   "file_extension": ".py",
   "mimetype": "text/x-python",
   "name": "python",
   "nbconvert_exporter": "python",
   "pygments_lexer": "ipython3",
   "version": "3.8.7rc1"
  },
  "orig_nbformat": 4
 },
 "nbformat": 4,
 "nbformat_minor": 2
}
